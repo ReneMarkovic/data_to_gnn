{
 "cells": [
  {
   "cell_type": "markdown",
   "metadata": {},
   "source": [
    "## Table class\n",
    "\n",
    "Tabela, skupaj z označbo kateri column je primary key\n",
    "\n",
    "time_col zaenkrat irelevanten"
   ]
  },
  {
   "cell_type": "code",
   "execution_count": 2,
   "metadata": {},
   "outputs": [],
   "source": [
    "from functools import lru_cache\n",
    "from typing import Optional\n",
    "\n",
    "import pandas as pd\n",
    "from typing_extensions import Self\n",
    "\n",
    "class Table:\n",
    "    \"\"\"\n",
    "    A table in a database.\n",
    "\n",
    "    Args:\n",
    "        name (str): The name of the table.\n",
    "        df (pandas.DataFrame): The underlying data frame of the table.\n",
    "        pkey_col (str, optional): The primary key column if it exists.\n",
    "            (default: :obj:`None`)\n",
    "        time_col (str, optional): The time column. (default: :obj:`None`)\n",
    "    \"\"\"\n",
    "\n",
    "    def __init__(\n",
    "        self,\n",
    "        name: str,\n",
    "        df: pd.DataFrame,\n",
    "        pkey_col: Optional[str] = None,\n",
    "        time_col: Optional[str] = None,\n",
    "    ):\n",
    "        self.df = df\n",
    "        self.name = name\n",
    "        self.pkey_col = pkey_col\n",
    "        self.time_col = time_col\n",
    "\n",
    "    def __repr__(self) -> str:\n",
    "        \"\"\"\n",
    "        Returns a string representation of the Table object.\n",
    "\n",
    "        Returns:\n",
    "            str: The string representation of the Table object.\n",
    "        \"\"\"\n",
    "        return (\n",
    "            f\"Table(df=\\n{self.df},\\n\"\n",
    "            f\"  pkey_col={self.pkey_col},\\n\"\n",
    "            f\"  time_col={self.time_col}\"\n",
    "            f\")\"\n",
    "        )\n",
    "\n",
    "    def __len__(self) -> int:\n",
    "        \"\"\"\n",
    "        Returns the number of rows in the table.\n",
    "\n",
    "        Returns:\n",
    "            int: The number of rows in the table.\n",
    "        \"\"\"\n",
    "        return len(self.df)\n",
    "\n",
    "    def upto(self, time_stamp: pd.Timestamp) -> Self:\n",
    "        \"\"\"\n",
    "        Returns a table with all rows up to the specified time.\n",
    "\n",
    "        Args:\n",
    "            time_stamp (pd.Timestamp): The time stamp.\n",
    "\n",
    "        Returns:\n",
    "            Table: A new table with all rows up to the specified time.\n",
    "        \"\"\"\n",
    "        if self.time_col is None:\n",
    "            return self\n",
    "\n",
    "        return Table(\n",
    "            df=self.df.query(f\"{self.time_col} <= @time_stamp\"),\n",
    "            pkey_col=self.pkey_col,\n",
    "            time_col=self.time_col,\n",
    "        )\n",
    "\n",
    "    @property\n",
    "    @lru_cache(maxsize=None)\n",
    "    def min_timestamp(self) -> pd.Timestamp:\n",
    "        \"\"\"\n",
    "        Returns the earliest time in the table.\n",
    "\n",
    "        Returns:\n",
    "            pd.Timestamp: The earliest time in the table.\n",
    "\n",
    "        Raises:\n",
    "            ValueError: If the table has no time column.\n",
    "        \"\"\"\n",
    "        if self.time_col is None:\n",
    "            raise ValueError(\"Table has no time column.\")\n",
    "\n",
    "        return self.df[self.time_col].min()\n",
    "\n",
    "    @property\n",
    "    @lru_cache(maxsize=None)\n",
    "    def max_timestamp(self) -> pd.Timestamp:\n",
    "        \"\"\"\n",
    "        Returns the latest time in the table.\n",
    "\n",
    "        Returns:\n",
    "            pd.Timestamp: The latest time in the table.\n",
    "\n",
    "        Raises:\n",
    "            ValueError: If the table has no time column.\n",
    "        \"\"\"\n",
    "        if self.time_col is None:\n",
    "            raise ValueError(\"Table has no time column.\")\n",
    "\n",
    "        return self.df[self.time_col].max()"
   ]
  },
  {
   "cell_type": "markdown",
   "metadata": {},
   "source": [
    "## Database class\n",
    "\n",
    "Array tabel in dictionary, ki shrani pkey-fkey povezave na naslednji način:\n",
    "`\n",
    "{\n",
    "  tabela1 (pkey je znan, ker je tabela1 Table class in ima pkey not) : [povezana_tabela1, fkey_column_name_v_povezani_tabeli1],\n",
    "  tabela1 : [povezana_tabela2, fkey_column_name_v_povezani_tabeli2],\n",
    "  tabela2 : [povezana_tabela3, fkey_column_name_v_povezani_tabeli3],\n",
    "  ...\n",
    "}\n",
    "`\n",
    "\n",
    "Potem pa im funkcije za generiranje nodeov in generiranje edge indexa."
   ]
  },
  {
   "cell_type": "code",
   "execution_count": 3,
   "metadata": {},
   "outputs": [],
   "source": [
    "import torch\n",
    "from torch_geometric.data import HeteroData\n",
    "import numpy as np\n",
    "\n",
    "class Database:\n",
    "    \"\"\"\n",
    "    A class representing a database.\n",
    "\n",
    "    Attributes:\n",
    "        tables (list): A list of tables in the database.\n",
    "        table_connections (dict): A dictionary storing table connections.\n",
    "\n",
    "    Methods:\n",
    "        add_table: Add a table to the database.\n",
    "        add_table_connections: Add table connections to the database.\n",
    "        create_node_array: Create an array of node features.\n",
    "        add_node_number_to_table: Add a node number to each table.\n",
    "        create_edge_index: Create the edge index and edge attributes.\n",
    "        create_graph: Create a PyTorch geometric data object representing the graph.\n",
    "    \"\"\"\n",
    "\n",
    "    def __init__(self):\n",
    "        self.tables = []\n",
    "        self.table_connections = {}\n",
    "\n",
    "    def add_table(self, table):\n",
    "        \"\"\"\n",
    "        Add a table to the database.\n",
    "\n",
    "        Args:\n",
    "            table (Table): The table to be added.\n",
    "        \"\"\"\n",
    "        self.tables.append(table)\n",
    "\n",
    "    def add_table_connections(self, table, foreign_table, foreign_key_col):\n",
    "        \"\"\"\n",
    "        Add table connections to the database.\n",
    "\n",
    "        Args:\n",
    "            table (Table): The table to connect.\n",
    "            foreign_table (Table): The foreign table to connect.\n",
    "            foreign_key_col (str): The foreign key column name.\n",
    "        \"\"\"\n",
    "        if table in self.table_connections:\n",
    "            self.table_connections[table].append((foreign_table, foreign_key_col))\n",
    "        else:\n",
    "            self.table_connections[table] = [(foreign_table, foreign_key_col)]\n",
    "\n",
    "    def one_hot_encode_nonnumerical_cols(self, df):\n",
    "        col_groups = df.columns.to_series().groupby(df.dtypes).groups        \n",
    "        try:\n",
    "            non_numeric_cols = col_groups[np.dtype('O')]\n",
    "            for col in non_numeric_cols:\n",
    "                encoded_df = pd.get_dummies(df[col], prefix=str(col), dtype=int)\n",
    "                df = pd.concat([df, encoded_df], axis=1).drop(str(col), axis=1)\n",
    "        except KeyError:\n",
    "            pass\n",
    "        return df\n",
    "    \n",
    "    def create_node_array(self):\n",
    "        \"\"\"\n",
    "        Create an array of node features.\n",
    "\n",
    "        Returns:\n",
    "            HeteroData: The node features.\n",
    "        \"\"\"\n",
    "        data = HeteroData()\n",
    "        for table in self.tables:\n",
    "            oh_table = self.one_hot_encode_nonnumerical_cols(table.df)\n",
    "            node_features = []\n",
    "            for row in oh_table.to_numpy():\n",
    "                node_features.append(row)\n",
    "                \n",
    "            data[table.name].x = node_features\n",
    "        \n",
    "        return data\n",
    "    \n",
    "    def add_node_number_to_table(self):\n",
    "        \"\"\"\n",
    "        Add a node number to each table.\n",
    "        \"\"\"\n",
    "        node_counter = 0\n",
    "        for table in self.tables:\n",
    "            table.df['node_nr'] = pd.RangeIndex(start=node_counter + 1, stop=node_counter + len(table.df) + 1)\n",
    "            node_counter += len(table.df) # Kaj pa če gre za podvajanje? table.df[\"pkey\"].unique()#\n",
    "\n",
    "    \n",
    "    def create_edge_index(self, graph):\n",
    "        \"\"\"\n",
    "        Create the edge index and edge attributes.\n",
    "\n",
    "        Args:\n",
    "            graph (HeteroData): The graph data.\n",
    "\n",
    "        Returns:\n",
    "            HeteroData: The graph data with edge index and attributes.\n",
    "        \"\"\"\n",
    "        \n",
    "        #TODO: Verjetno je narobe indexing - moralo bi biti pkey-pkey v edge_indexu, brez reindexinga.\n",
    "        \n",
    "        for table in self.tables:\n",
    "            if table in self.table_connections.keys():\n",
    "                for connection in self.table_connections[table]:\n",
    "                    foreign_table, foreign_key_col = connection\n",
    "\n",
    "                    edge_index_transpose = []\n",
    "                        \n",
    "                    for row_nr in range(len(table.df)):\n",
    "                        for row_nr2 in range(len(foreign_table.df)):\n",
    "                            if table.df[table.pkey_col][row_nr] == foreign_table.df[foreign_key_col][row_nr2]:\n",
    "                                edge_index_transpose.append([table.df[table.pkey_col][row_nr], foreign_table.df[foreign_table.pkey_col][row_nr2]])\n",
    "                                edge_index = [[edge_index_transpose[j][i] for j in range(len(edge_index_transpose))] for i in range(len(edge_index_transpose[0]))]\n",
    "                                edge_index = torch.stack([torch.tensor(edge_index[0]), torch.tensor(edge_index[1])])\n",
    "                    \n",
    "                    print(edge_index)\n",
    "                    graph[table.name, foreign_table.name].edge_index = edge_index\n",
    "        \n",
    "        return graph\n",
    "\n",
    "    def create_graph(self):\n",
    "        \"\"\"\n",
    "        Create a PyTorch geometric data object representing the graph.\n",
    "\n",
    "        Returns:\n",
    "            HeteroData: The graph data object.\n",
    "        \"\"\"\n",
    "        node_features = self.create_node_array()\n",
    "        \n",
    "        self.add_node_number_to_table()\n",
    "        \n",
    "        data = self.create_edge_index(node_features)\n",
    "        \n",
    "        return data"
   ]
  },
  {
   "cell_type": "code",
   "execution_count": 4,
   "metadata": {},
   "outputs": [],
   "source": [
    "# Create three example tables\n",
    "df1 = pd.DataFrame({'id': [1, 2, 3], 'name': ['Alice', 'Bob', 'Charlie'], 'gender': ['F', 'M', 'M']})\n",
    "df2 = pd.DataFrame({'id': [1, 2, 3], 'name': ['Martin', 'Rok', 'Franc'], 'gender': ['M', 'NB', 'M']})\n",
    "df3 = pd.DataFrame({'id': [1, 2, 3, 4], 'age': [25, 30, 35, 20], 'fkey1':[1, 3, 2, 1], 'fkey2':[3, 3, 1, 2]})\n",
    "\n",
    "df1.to_csv('table1.csv')\n",
    "df2.to_csv('table2.csv')\n",
    "df3.to_csv('table3.csv')\n",
    "\n",
    "# Create Table 1 instance\n",
    "table1 = Table(\"tab1\", df1, pkey_col='id')\n",
    "table2 = Table(\"tab2\", df2, pkey_col='id')\n",
    "table3 = Table(\"tab3\", df3, pkey_col='id')"
   ]
  },
  {
   "cell_type": "code",
   "execution_count": 15,
   "metadata": {},
   "outputs": [
    {
     "data": {
      "text/html": [
       "<div>\n",
       "<style scoped>\n",
       "    .dataframe tbody tr th:only-of-type {\n",
       "        vertical-align: middle;\n",
       "    }\n",
       "\n",
       "    .dataframe tbody tr th {\n",
       "        vertical-align: top;\n",
       "    }\n",
       "\n",
       "    .dataframe thead th {\n",
       "        text-align: right;\n",
       "    }\n",
       "</style>\n",
       "<table border=\"1\" class=\"dataframe\">\n",
       "  <thead>\n",
       "    <tr style=\"text-align: right;\">\n",
       "      <th></th>\n",
       "      <th>id</th>\n",
       "      <th>name</th>\n",
       "      <th>gender</th>\n",
       "    </tr>\n",
       "  </thead>\n",
       "  <tbody>\n",
       "    <tr>\n",
       "      <th>0</th>\n",
       "      <td>1</td>\n",
       "      <td>Alice</td>\n",
       "      <td>F</td>\n",
       "    </tr>\n",
       "    <tr>\n",
       "      <th>1</th>\n",
       "      <td>2</td>\n",
       "      <td>Bob</td>\n",
       "      <td>M</td>\n",
       "    </tr>\n",
       "    <tr>\n",
       "      <th>2</th>\n",
       "      <td>3</td>\n",
       "      <td>Charlie</td>\n",
       "      <td>M</td>\n",
       "    </tr>\n",
       "  </tbody>\n",
       "</table>\n",
       "</div>"
      ],
      "text/plain": [
       "   id     name gender\n",
       "0   1    Alice      F\n",
       "1   2      Bob      M\n",
       "2   3  Charlie      M"
      ]
     },
     "metadata": {},
     "output_type": "display_data"
    },
    {
     "name": "stdout",
     "output_type": "stream",
     "text": [
      "{int64: ['id'], object: ['name', 'gender']}\n"
     ]
    },
    {
     "data": {
      "text/html": [
       "<div>\n",
       "<style scoped>\n",
       "    .dataframe tbody tr th:only-of-type {\n",
       "        vertical-align: middle;\n",
       "    }\n",
       "\n",
       "    .dataframe tbody tr th {\n",
       "        vertical-align: top;\n",
       "    }\n",
       "\n",
       "    .dataframe thead th {\n",
       "        text-align: right;\n",
       "    }\n",
       "</style>\n",
       "<table border=\"1\" class=\"dataframe\">\n",
       "  <thead>\n",
       "    <tr style=\"text-align: right;\">\n",
       "      <th></th>\n",
       "      <th>id</th>\n",
       "      <th>name_Alice</th>\n",
       "      <th>name_Bob</th>\n",
       "      <th>name_Charlie</th>\n",
       "      <th>gender_F</th>\n",
       "      <th>gender_M</th>\n",
       "    </tr>\n",
       "  </thead>\n",
       "  <tbody>\n",
       "    <tr>\n",
       "      <th>0</th>\n",
       "      <td>1</td>\n",
       "      <td>1</td>\n",
       "      <td>0</td>\n",
       "      <td>0</td>\n",
       "      <td>1</td>\n",
       "      <td>0</td>\n",
       "    </tr>\n",
       "    <tr>\n",
       "      <th>1</th>\n",
       "      <td>2</td>\n",
       "      <td>0</td>\n",
       "      <td>1</td>\n",
       "      <td>0</td>\n",
       "      <td>0</td>\n",
       "      <td>1</td>\n",
       "    </tr>\n",
       "    <tr>\n",
       "      <th>2</th>\n",
       "      <td>3</td>\n",
       "      <td>0</td>\n",
       "      <td>0</td>\n",
       "      <td>1</td>\n",
       "      <td>0</td>\n",
       "      <td>1</td>\n",
       "    </tr>\n",
       "  </tbody>\n",
       "</table>\n",
       "</div>"
      ],
      "text/plain": [
       "   id  name_Alice  name_Bob  name_Charlie  gender_F  gender_M\n",
       "0   1           1         0             0         1         0\n",
       "1   2           0         1             0         0         1\n",
       "2   3           0         0             1         0         1"
      ]
     },
     "metadata": {},
     "output_type": "display_data"
    },
    {
     "name": "stdout",
     "output_type": "stream",
     "text": [
      "[1 1 0 0 1 0]\n",
      "[2 0 1 0 0 1]\n",
      "[3 0 0 1 0 1]\n"
     ]
    },
    {
     "data": {
      "text/html": [
       "<div>\n",
       "<style scoped>\n",
       "    .dataframe tbody tr th:only-of-type {\n",
       "        vertical-align: middle;\n",
       "    }\n",
       "\n",
       "    .dataframe tbody tr th {\n",
       "        vertical-align: top;\n",
       "    }\n",
       "\n",
       "    .dataframe thead th {\n",
       "        text-align: right;\n",
       "    }\n",
       "</style>\n",
       "<table border=\"1\" class=\"dataframe\">\n",
       "  <thead>\n",
       "    <tr style=\"text-align: right;\">\n",
       "      <th></th>\n",
       "      <th>id</th>\n",
       "      <th>name</th>\n",
       "      <th>gender</th>\n",
       "    </tr>\n",
       "  </thead>\n",
       "  <tbody>\n",
       "    <tr>\n",
       "      <th>0</th>\n",
       "      <td>1</td>\n",
       "      <td>Martin</td>\n",
       "      <td>M</td>\n",
       "    </tr>\n",
       "    <tr>\n",
       "      <th>1</th>\n",
       "      <td>2</td>\n",
       "      <td>Rok</td>\n",
       "      <td>NB</td>\n",
       "    </tr>\n",
       "    <tr>\n",
       "      <th>2</th>\n",
       "      <td>3</td>\n",
       "      <td>Franc</td>\n",
       "      <td>M</td>\n",
       "    </tr>\n",
       "  </tbody>\n",
       "</table>\n",
       "</div>"
      ],
      "text/plain": [
       "   id    name gender\n",
       "0   1  Martin      M\n",
       "1   2     Rok     NB\n",
       "2   3   Franc      M"
      ]
     },
     "metadata": {},
     "output_type": "display_data"
    },
    {
     "name": "stdout",
     "output_type": "stream",
     "text": [
      "{int64: ['id'], object: ['name', 'gender']}\n"
     ]
    },
    {
     "data": {
      "text/html": [
       "<div>\n",
       "<style scoped>\n",
       "    .dataframe tbody tr th:only-of-type {\n",
       "        vertical-align: middle;\n",
       "    }\n",
       "\n",
       "    .dataframe tbody tr th {\n",
       "        vertical-align: top;\n",
       "    }\n",
       "\n",
       "    .dataframe thead th {\n",
       "        text-align: right;\n",
       "    }\n",
       "</style>\n",
       "<table border=\"1\" class=\"dataframe\">\n",
       "  <thead>\n",
       "    <tr style=\"text-align: right;\">\n",
       "      <th></th>\n",
       "      <th>id</th>\n",
       "      <th>name_Franc</th>\n",
       "      <th>name_Martin</th>\n",
       "      <th>name_Rok</th>\n",
       "      <th>gender_M</th>\n",
       "      <th>gender_NB</th>\n",
       "    </tr>\n",
       "  </thead>\n",
       "  <tbody>\n",
       "    <tr>\n",
       "      <th>0</th>\n",
       "      <td>1</td>\n",
       "      <td>0</td>\n",
       "      <td>1</td>\n",
       "      <td>0</td>\n",
       "      <td>1</td>\n",
       "      <td>0</td>\n",
       "    </tr>\n",
       "    <tr>\n",
       "      <th>1</th>\n",
       "      <td>2</td>\n",
       "      <td>0</td>\n",
       "      <td>0</td>\n",
       "      <td>1</td>\n",
       "      <td>0</td>\n",
       "      <td>1</td>\n",
       "    </tr>\n",
       "    <tr>\n",
       "      <th>2</th>\n",
       "      <td>3</td>\n",
       "      <td>1</td>\n",
       "      <td>0</td>\n",
       "      <td>0</td>\n",
       "      <td>1</td>\n",
       "      <td>0</td>\n",
       "    </tr>\n",
       "  </tbody>\n",
       "</table>\n",
       "</div>"
      ],
      "text/plain": [
       "   id  name_Franc  name_Martin  name_Rok  gender_M  gender_NB\n",
       "0   1           0            1         0         1          0\n",
       "1   2           0            0         1         0          1\n",
       "2   3           1            0         0         1          0"
      ]
     },
     "metadata": {},
     "output_type": "display_data"
    },
    {
     "name": "stdout",
     "output_type": "stream",
     "text": [
      "[1 0 1 0 1 0]\n",
      "[2 0 0 1 0 1]\n",
      "[3 1 0 0 1 0]\n"
     ]
    },
    {
     "data": {
      "text/html": [
       "<div>\n",
       "<style scoped>\n",
       "    .dataframe tbody tr th:only-of-type {\n",
       "        vertical-align: middle;\n",
       "    }\n",
       "\n",
       "    .dataframe tbody tr th {\n",
       "        vertical-align: top;\n",
       "    }\n",
       "\n",
       "    .dataframe thead th {\n",
       "        text-align: right;\n",
       "    }\n",
       "</style>\n",
       "<table border=\"1\" class=\"dataframe\">\n",
       "  <thead>\n",
       "    <tr style=\"text-align: right;\">\n",
       "      <th></th>\n",
       "      <th>id</th>\n",
       "      <th>age</th>\n",
       "      <th>fkey1</th>\n",
       "      <th>fkey2</th>\n",
       "    </tr>\n",
       "  </thead>\n",
       "  <tbody>\n",
       "    <tr>\n",
       "      <th>0</th>\n",
       "      <td>1</td>\n",
       "      <td>25</td>\n",
       "      <td>1</td>\n",
       "      <td>3</td>\n",
       "    </tr>\n",
       "    <tr>\n",
       "      <th>1</th>\n",
       "      <td>2</td>\n",
       "      <td>30</td>\n",
       "      <td>3</td>\n",
       "      <td>3</td>\n",
       "    </tr>\n",
       "    <tr>\n",
       "      <th>2</th>\n",
       "      <td>3</td>\n",
       "      <td>35</td>\n",
       "      <td>2</td>\n",
       "      <td>1</td>\n",
       "    </tr>\n",
       "    <tr>\n",
       "      <th>3</th>\n",
       "      <td>4</td>\n",
       "      <td>20</td>\n",
       "      <td>1</td>\n",
       "      <td>2</td>\n",
       "    </tr>\n",
       "  </tbody>\n",
       "</table>\n",
       "</div>"
      ],
      "text/plain": [
       "   id  age  fkey1  fkey2\n",
       "0   1   25      1      3\n",
       "1   2   30      3      3\n",
       "2   3   35      2      1\n",
       "3   4   20      1      2"
      ]
     },
     "metadata": {},
     "output_type": "display_data"
    },
    {
     "name": "stdout",
     "output_type": "stream",
     "text": [
      "{int64: ['id', 'age', 'fkey1', 'fkey2']}\n",
      "Tabela ima samo numerične stolpce.\n"
     ]
    }
   ],
   "source": [
    "table = [df1, df2, df3]\n",
    "for df in table:\n",
    "    display(df)\n",
    "    print(df.columns.to_series().groupby(df.dtypes).groups)\n",
    "    col_groups = df.columns.to_series().groupby(df.dtypes).groups\n",
    "    if np.dtype('O') in col_groups:\n",
    "        non_numeric_cols = col_groups[np.dtype('O')]\n",
    "        for col in non_numeric_cols:\n",
    "            encoded_df = pd.get_dummies(df[col], prefix=str(col), dtype=int)\n",
    "            df = pd.concat([df, encoded_df], axis=1).drop(str(col), axis=1)\n",
    "        display(df)\n",
    "        for row in df.to_numpy():\n",
    "            print(row)\n",
    "    else:\n",
    "        print(\"Tabela ima samo numerične stolpce.\")"
   ]
  },
  {
   "cell_type": "code",
   "execution_count": 32,
   "metadata": {},
   "outputs": [],
   "source": [
    "# Create a Database instance\n",
    "db = Database()\n",
    "\n",
    "# Add the tables to the database\n",
    "db.add_table(table1)\n",
    "db.add_table(table2)\n",
    "db.add_table(table3)\n",
    "\n",
    "# Add table connections\n",
    "db.add_table_connections(table1, table3, 'fkey1')\n",
    "db.add_table_connections(table2, table3, 'fkey2')"
   ]
  },
  {
   "cell_type": "code",
   "execution_count": 33,
   "metadata": {},
   "outputs": [
    {
     "name": "stdout",
     "output_type": "stream",
     "text": [
      "tensor([[ 1,  1,  2,  3],\n",
      "        [ 7, 10,  9,  8]])\n",
      "tensor([[ 4,  5,  6,  6],\n",
      "        [ 9, 10,  7,  8]])\n"
     ]
    },
    {
     "data": {
      "text/plain": [
       "HeteroData(\n",
       "  tab1={ x=[3] },\n",
       "  tab2={ x=[3] },\n",
       "  tab3={ x=[4] },\n",
       "  (tab1, to, tab3)={ edge_index=[2, 4] },\n",
       "  (tab2, to, tab3)={ edge_index=[2, 4] }\n",
       ")"
      ]
     },
     "execution_count": 33,
     "metadata": {},
     "output_type": "execute_result"
    }
   ],
   "source": [
    "# Bellow is the same, step-by-step executing funcitons in create_graph()\n",
    "# edge indices are still explicitly printed for \"(physics) testing\"\n",
    "graph = db.create_graph()\n",
    "graph"
   ]
  },
  {
   "cell_type": "code",
   "execution_count": 34,
   "metadata": {},
   "outputs": [],
   "source": [
    "node_features = db.create_node_array()\n",
    "# node_features = torch.tensor(node_features)"
   ]
  },
  {
   "cell_type": "code",
   "execution_count": 35,
   "metadata": {},
   "outputs": [
    {
     "data": {
      "text/plain": [
       "([array([1, 1, 1, 0, 0, 1, 0], dtype=int64),\n",
       "  array([2, 2, 0, 1, 0, 0, 1], dtype=int64),\n",
       "  array([3, 3, 0, 0, 1, 0, 1], dtype=int64)],\n",
       " [array([1, 4, 0, 1, 0, 1, 0], dtype=int64),\n",
       "  array([2, 5, 0, 0, 1, 0, 1], dtype=int64),\n",
       "  array([3, 6, 1, 0, 0, 1, 0], dtype=int64)],\n",
       " [array([ 1, 25,  1,  3,  7], dtype=int64),\n",
       "  array([ 2, 30,  3,  3,  8], dtype=int64),\n",
       "  array([ 3, 35,  2,  1,  9], dtype=int64),\n",
       "  array([ 4, 20,  1,  2, 10], dtype=int64)])"
      ]
     },
     "execution_count": 35,
     "metadata": {},
     "output_type": "execute_result"
    }
   ],
   "source": [
    "node_features['tab1'].x, node_features['tab2'].x, node_features['tab3'].x"
   ]
  },
  {
   "cell_type": "code",
   "execution_count": 36,
   "metadata": {},
   "outputs": [
    {
     "name": "stdout",
     "output_type": "stream",
     "text": [
      "tensor([[ 1,  1,  2,  3],\n",
      "        [ 7, 10,  9,  8]])\n",
      "tensor([[ 4,  5,  6,  6],\n",
      "        [ 9, 10,  7,  8]])\n"
     ]
    },
    {
     "data": {
      "text/plain": [
       "HeteroData(\n",
       "  tab1={ x=[3] },\n",
       "  tab2={ x=[3] },\n",
       "  tab3={ x=[4] },\n",
       "  (tab1, to, tab3)={ edge_index=[2, 4] },\n",
       "  (tab2, to, tab3)={ edge_index=[2, 4] }\n",
       ")"
      ]
     },
     "execution_count": 36,
     "metadata": {},
     "output_type": "execute_result"
    }
   ],
   "source": [
    "db.add_node_number_to_table()\n",
    "graph = db.create_edge_index(node_features)\n",
    "graph"
   ]
  },
  {
   "cell_type": "code",
   "execution_count": 37,
   "metadata": {},
   "outputs": [
    {
     "data": {
      "text/plain": [
       "tensor([[ 1,  1,  2,  3],\n",
       "        [ 7, 10,  9,  8]])"
      ]
     },
     "execution_count": 37,
     "metadata": {},
     "output_type": "execute_result"
    }
   ],
   "source": [
    "graph[graph.edge_types[0]].edge_index"
   ]
  },
  {
   "cell_type": "code",
   "execution_count": 38,
   "metadata": {},
   "outputs": [],
   "source": [
    "# graph.to_homogeneous(), ki bi moral heterogeni graf pretvoriti v homogeni, ne deluje, ker je num_nodes_dict dictionary prazen. Zato ga napolnim na roko (oh well :)).\n",
    "graph.num_nodes_dict = {'tab1': 3, 'tab2': 3, 'tab3': 4}"
   ]
  },
  {
   "cell_type": "code",
   "execution_count": 39,
   "metadata": {},
   "outputs": [
    {
     "data": {
      "text/plain": [
       "Data(\n",
       "  num_nodes_dict={\n",
       "    tab1=3,\n",
       "    tab2=3,\n",
       "    tab3=4,\n",
       "  },\n",
       "  edge_index=[2, 8],\n",
       "  node_type=[10],\n",
       "  edge_type=[8]\n",
       ")"
      ]
     },
     "execution_count": 39,
     "metadata": {},
     "output_type": "execute_result"
    }
   ],
   "source": [
    "graph_hom = graph.to_homogeneous()\n",
    "graph_hom"
   ]
  },
  {
   "cell_type": "code",
   "execution_count": 41,
   "metadata": {},
   "outputs": [],
   "source": [
    "from torch_geometric.utils import to_networkx\n",
    "import matplotlib.pyplot as plt\n",
    "import networkx as nx"
   ]
  },
  {
   "cell_type": "code",
   "execution_count": 42,
   "metadata": {},
   "outputs": [
    {
     "data": {
      "text/plain": [
       "10"
      ]
     },
     "execution_count": 42,
     "metadata": {},
     "output_type": "execute_result"
    }
   ],
   "source": [
    "graph_hom.num_nodes"
   ]
  },
  {
   "cell_type": "code",
   "execution_count": 47,
   "metadata": {},
   "outputs": [
    {
     "name": "stdout",
     "output_type": "stream",
     "text": [
      "[0, 1, 2, 3, 4, 5, 6, 7, 8, 9, 13, 16, 15, 14]\n"
     ]
    }
   ],
   "source": [
    "G = to_networkx(graph_hom, to_undirected=True)\n",
    "G.number_of_nodes()\n",
    "print(G.nodes())\n",
    "# To bi moralo biti 10, kot je zgoraj"
   ]
  },
  {
   "cell_type": "code",
   "execution_count": 46,
   "metadata": {},
   "outputs": [
    {
     "data": {
      "text/plain": [
       "Data(\n",
       "  num_nodes_dict={\n",
       "    tab1=3,\n",
       "    tab2=3,\n",
       "    tab3=4,\n",
       "  },\n",
       "  edge_index=[2, 8],\n",
       "  node_type=[10],\n",
       "  edge_type=[8]\n",
       ")"
      ]
     },
     "execution_count": 46,
     "metadata": {},
     "output_type": "execute_result"
    }
   ],
   "source": [
    "graph_hom"
   ]
  },
  {
   "cell_type": "code",
   "execution_count": 44,
   "metadata": {},
   "outputs": [
    {
     "name": "stdout",
     "output_type": "stream",
     "text": [
      "len colors =  10\n"
     ]
    }
   ],
   "source": [
    "colors = np.array(graph_hom.node_type)\n",
    "print(\"len colors = \",len(colors))"
   ]
  },
  {
   "cell_type": "code",
   "execution_count": 45,
   "metadata": {},
   "outputs": [
    {
     "name": "stdout",
     "output_type": "stream",
     "text": [
      "len nodes =  14\n"
     ]
    }
   ],
   "source": [
    "nodes = [n for n in G]\n",
    "print(\"len nodes = \",len(nodes))"
   ]
  },
  {
   "cell_type": "code",
   "execution_count": 24,
   "metadata": {},
   "outputs": [
    {
     "data": {
      "text/plain": [
       "array([3, 0, 0, 0, 1, 1, 1, 2, 2, 2, 2], dtype=int64)"
      ]
     },
     "execution_count": 24,
     "metadata": {},
     "output_type": "execute_result"
    }
   ],
   "source": [
    "# Ne vem zakaj doda en dodaten node - doda node 0, tako ima edino smisel spodnja slika (ker node iste barve ne smejo biti povezani, prihajajo iz iste tabele in nimajo pk-fk povezav)\n",
    "colors = np.append(3, np.array(graph_hom.node_type))\n",
    "colors"
   ]
  },
  {
   "cell_type": "code",
   "execution_count": 26,
   "metadata": {},
   "outputs": [
    {
     "ename": "ValueError",
     "evalue": "'c' argument has 10 elements, which is inconsistent with 'x' and 'y' with size 11.",
     "output_type": "error",
     "traceback": [
      "\u001b[1;31m---------------------------------------------------------------------------\u001b[0m",
      "\u001b[1;31mValueError\u001b[0m                                Traceback (most recent call last)",
      "File \u001b[1;32md:\\00_DataForge\\venv\\lib\\site-packages\\matplotlib\\axes\\_axes.py:4618\u001b[0m, in \u001b[0;36mAxes._parse_scatter_color_args\u001b[1;34m(c, edgecolors, kwargs, xsize, get_next_color_func)\u001b[0m\n\u001b[0;32m   4617\u001b[0m \u001b[38;5;28;01mtry\u001b[39;00m:  \u001b[38;5;66;03m# Is 'c' acceptable as PathCollection facecolors?\u001b[39;00m\n\u001b[1;32m-> 4618\u001b[0m     colors \u001b[38;5;241m=\u001b[39m \u001b[43mmcolors\u001b[49m\u001b[38;5;241;43m.\u001b[39;49m\u001b[43mto_rgba_array\u001b[49m\u001b[43m(\u001b[49m\u001b[43mc\u001b[49m\u001b[43m)\u001b[49m\n\u001b[0;32m   4619\u001b[0m \u001b[38;5;28;01mexcept\u001b[39;00m (\u001b[38;5;167;01mTypeError\u001b[39;00m, \u001b[38;5;167;01mValueError\u001b[39;00m) \u001b[38;5;28;01mas\u001b[39;00m err:\n",
      "File \u001b[1;32md:\\00_DataForge\\venv\\lib\\site-packages\\matplotlib\\colors.py:512\u001b[0m, in \u001b[0;36mto_rgba_array\u001b[1;34m(c, alpha)\u001b[0m\n\u001b[0;32m    511\u001b[0m \u001b[38;5;28;01melse\u001b[39;00m:\n\u001b[1;32m--> 512\u001b[0m     rgba \u001b[38;5;241m=\u001b[39m np\u001b[38;5;241m.\u001b[39marray([to_rgba(cc) \u001b[38;5;28;01mfor\u001b[39;00m cc \u001b[38;5;129;01min\u001b[39;00m c])\n\u001b[0;32m    514\u001b[0m \u001b[38;5;28;01mif\u001b[39;00m alpha \u001b[38;5;129;01mis\u001b[39;00m \u001b[38;5;129;01mnot\u001b[39;00m \u001b[38;5;28;01mNone\u001b[39;00m:\n",
      "File \u001b[1;32md:\\00_DataForge\\venv\\lib\\site-packages\\matplotlib\\colors.py:512\u001b[0m, in \u001b[0;36m<listcomp>\u001b[1;34m(.0)\u001b[0m\n\u001b[0;32m    511\u001b[0m \u001b[38;5;28;01melse\u001b[39;00m:\n\u001b[1;32m--> 512\u001b[0m     rgba \u001b[38;5;241m=\u001b[39m np\u001b[38;5;241m.\u001b[39marray([\u001b[43mto_rgba\u001b[49m\u001b[43m(\u001b[49m\u001b[43mcc\u001b[49m\u001b[43m)\u001b[49m \u001b[38;5;28;01mfor\u001b[39;00m cc \u001b[38;5;129;01min\u001b[39;00m c])\n\u001b[0;32m    514\u001b[0m \u001b[38;5;28;01mif\u001b[39;00m alpha \u001b[38;5;129;01mis\u001b[39;00m \u001b[38;5;129;01mnot\u001b[39;00m \u001b[38;5;28;01mNone\u001b[39;00m:\n",
      "File \u001b[1;32md:\\00_DataForge\\venv\\lib\\site-packages\\matplotlib\\colors.py:309\u001b[0m, in \u001b[0;36mto_rgba\u001b[1;34m(c, alpha)\u001b[0m\n\u001b[0;32m    308\u001b[0m \u001b[38;5;28;01mif\u001b[39;00m rgba \u001b[38;5;129;01mis\u001b[39;00m \u001b[38;5;28;01mNone\u001b[39;00m:  \u001b[38;5;66;03m# Suppress exception chaining of cache lookup failure.\u001b[39;00m\n\u001b[1;32m--> 309\u001b[0m     rgba \u001b[38;5;241m=\u001b[39m \u001b[43m_to_rgba_no_colorcycle\u001b[49m\u001b[43m(\u001b[49m\u001b[43mc\u001b[49m\u001b[43m,\u001b[49m\u001b[43m \u001b[49m\u001b[43malpha\u001b[49m\u001b[43m)\u001b[49m\n\u001b[0;32m    310\u001b[0m     \u001b[38;5;28;01mtry\u001b[39;00m:\n",
      "File \u001b[1;32md:\\00_DataForge\\venv\\lib\\site-packages\\matplotlib\\colors.py:398\u001b[0m, in \u001b[0;36m_to_rgba_no_colorcycle\u001b[1;34m(c, alpha)\u001b[0m\n\u001b[0;32m    397\u001b[0m \u001b[38;5;28;01mif\u001b[39;00m \u001b[38;5;129;01mnot\u001b[39;00m np\u001b[38;5;241m.\u001b[39miterable(c):\n\u001b[1;32m--> 398\u001b[0m     \u001b[38;5;28;01mraise\u001b[39;00m \u001b[38;5;167;01mValueError\u001b[39;00m(\u001b[38;5;124mf\u001b[39m\u001b[38;5;124m\"\u001b[39m\u001b[38;5;124mInvalid RGBA argument: \u001b[39m\u001b[38;5;132;01m{\u001b[39;00morig_c\u001b[38;5;132;01m!r}\u001b[39;00m\u001b[38;5;124m\"\u001b[39m)\n\u001b[0;32m    399\u001b[0m \u001b[38;5;28;01mif\u001b[39;00m \u001b[38;5;28mlen\u001b[39m(c) \u001b[38;5;129;01mnot\u001b[39;00m \u001b[38;5;129;01min\u001b[39;00m [\u001b[38;5;241m3\u001b[39m, \u001b[38;5;241m4\u001b[39m]:\n",
      "\u001b[1;31mValueError\u001b[0m: Invalid RGBA argument: 0.0",
      "\nThe above exception was the direct cause of the following exception:\n",
      "\u001b[1;31mValueError\u001b[0m                                Traceback (most recent call last)",
      "Cell \u001b[1;32mIn[26], line 4\u001b[0m\n\u001b[0;32m      2\u001b[0m plt\u001b[38;5;241m.\u001b[39mfigure(figsize\u001b[38;5;241m=\u001b[39m(\u001b[38;5;241m12\u001b[39m,\u001b[38;5;241m12\u001b[39m))\n\u001b[0;32m      3\u001b[0m plt\u001b[38;5;241m.\u001b[39maxis(\u001b[38;5;124m'\u001b[39m\u001b[38;5;124moff\u001b[39m\u001b[38;5;124m'\u001b[39m)\n\u001b[1;32m----> 4\u001b[0m \u001b[43mnx\u001b[49m\u001b[38;5;241;43m.\u001b[39;49m\u001b[43mdraw_networkx\u001b[49m\u001b[43m(\u001b[49m\u001b[43mG\u001b[49m\u001b[43m,\u001b[49m\n\u001b[0;32m      5\u001b[0m \u001b[43m                \u001b[49m\u001b[43mpos\u001b[49m\u001b[38;5;241;43m=\u001b[39;49m\u001b[43mnx\u001b[49m\u001b[38;5;241;43m.\u001b[39;49m\u001b[43mspring_layout\u001b[49m\u001b[43m(\u001b[49m\u001b[43mG\u001b[49m\u001b[43m,\u001b[49m\u001b[43m \u001b[49m\u001b[43mseed\u001b[49m\u001b[38;5;241;43m=\u001b[39;49m\u001b[38;5;241;43m0\u001b[39;49m\u001b[43m)\u001b[49m\u001b[43m,\u001b[49m\n\u001b[0;32m      6\u001b[0m \u001b[43m                \u001b[49m\u001b[43mwith_labels\u001b[49m\u001b[38;5;241;43m=\u001b[39;49m\u001b[38;5;28;43;01mTrue\u001b[39;49;00m\u001b[43m,\u001b[49m\n\u001b[0;32m      7\u001b[0m \u001b[43m                \u001b[49m\u001b[43mnode_size\u001b[49m\u001b[38;5;241;43m=\u001b[39;49m\u001b[38;5;241;43m800\u001b[39;49m\u001b[43m,\u001b[49m\n\u001b[0;32m      8\u001b[0m \u001b[43m                \u001b[49m\u001b[43mnode_color\u001b[49m\u001b[38;5;241;43m=\u001b[39;49m\u001b[43mcolors\u001b[49m\u001b[43m,\u001b[49m\n\u001b[0;32m      9\u001b[0m \u001b[43m                \u001b[49m\u001b[43mcmap\u001b[49m\u001b[38;5;241;43m=\u001b[39;49m\u001b[38;5;124;43m\"\u001b[39;49m\u001b[38;5;124;43mhsv\u001b[39;49m\u001b[38;5;124;43m\"\u001b[39;49m\u001b[43m,\u001b[49m\n\u001b[0;32m     10\u001b[0m \u001b[43m                \u001b[49m\u001b[43mvmin\u001b[49m\u001b[38;5;241;43m=\u001b[39;49m\u001b[38;5;241;43m-\u001b[39;49m\u001b[38;5;241;43m2\u001b[39;49m\u001b[43m,\u001b[49m\n\u001b[0;32m     11\u001b[0m \u001b[43m                \u001b[49m\u001b[43mvmax\u001b[49m\u001b[38;5;241;43m=\u001b[39;49m\u001b[38;5;241;43m3\u001b[39;49m\u001b[43m,\u001b[49m\n\u001b[0;32m     12\u001b[0m \u001b[43m                \u001b[49m\u001b[43mwidth\u001b[49m\u001b[38;5;241;43m=\u001b[39;49m\u001b[38;5;241;43m0.8\u001b[39;49m\u001b[43m,\u001b[49m\n\u001b[0;32m     13\u001b[0m \u001b[43m                \u001b[49m\u001b[43medge_color\u001b[49m\u001b[38;5;241;43m=\u001b[39;49m\u001b[38;5;124;43m\"\u001b[39;49m\u001b[38;5;124;43mgrey\u001b[39;49m\u001b[38;5;124;43m\"\u001b[39;49m\u001b[43m,\u001b[49m\n\u001b[0;32m     14\u001b[0m \u001b[43m                \u001b[49m\u001b[43mfont_size\u001b[49m\u001b[38;5;241;43m=\u001b[39;49m\u001b[38;5;241;43m14\u001b[39;49m\n\u001b[0;32m     15\u001b[0m \u001b[43m                \u001b[49m\u001b[43m)\u001b[49m\n\u001b[0;32m     16\u001b[0m plt\u001b[38;5;241m.\u001b[39mshow()\n",
      "File \u001b[1;32md:\\00_DataForge\\venv\\lib\\site-packages\\networkx\\drawing\\nx_pylab.py:311\u001b[0m, in \u001b[0;36mdraw_networkx\u001b[1;34m(G, pos, arrows, with_labels, **kwds)\u001b[0m\n\u001b[0;32m    308\u001b[0m \u001b[38;5;28;01mif\u001b[39;00m pos \u001b[38;5;129;01mis\u001b[39;00m \u001b[38;5;28;01mNone\u001b[39;00m:\n\u001b[0;32m    309\u001b[0m     pos \u001b[38;5;241m=\u001b[39m nx\u001b[38;5;241m.\u001b[39mdrawing\u001b[38;5;241m.\u001b[39mspring_layout(G)  \u001b[38;5;66;03m# default to spring layout\u001b[39;00m\n\u001b[1;32m--> 311\u001b[0m draw_networkx_nodes(G, pos, \u001b[38;5;241m*\u001b[39m\u001b[38;5;241m*\u001b[39mnode_kwds)\n\u001b[0;32m    312\u001b[0m draw_networkx_edges(G, pos, arrows\u001b[38;5;241m=\u001b[39marrows, \u001b[38;5;241m*\u001b[39m\u001b[38;5;241m*\u001b[39medge_kwds)\n\u001b[0;32m    313\u001b[0m \u001b[38;5;28;01mif\u001b[39;00m with_labels:\n",
      "File \u001b[1;32md:\\00_DataForge\\venv\\lib\\site-packages\\networkx\\drawing\\nx_pylab.py:450\u001b[0m, in \u001b[0;36mdraw_networkx_nodes\u001b[1;34m(G, pos, nodelist, node_size, node_color, node_shape, alpha, cmap, vmin, vmax, ax, linewidths, edgecolors, label, margins, hide_ticks)\u001b[0m\n\u001b[0;32m    447\u001b[0m     node_color \u001b[38;5;241m=\u001b[39m apply_alpha(node_color, alpha, nodelist, cmap, vmin, vmax)\n\u001b[0;32m    448\u001b[0m     alpha \u001b[38;5;241m=\u001b[39m \u001b[38;5;28;01mNone\u001b[39;00m\n\u001b[1;32m--> 450\u001b[0m node_collection \u001b[38;5;241m=\u001b[39m \u001b[43max\u001b[49m\u001b[38;5;241;43m.\u001b[39;49m\u001b[43mscatter\u001b[49m\u001b[43m(\u001b[49m\n\u001b[0;32m    451\u001b[0m \u001b[43m    \u001b[49m\u001b[43mxy\u001b[49m\u001b[43m[\u001b[49m\u001b[43m:\u001b[49m\u001b[43m,\u001b[49m\u001b[43m \u001b[49m\u001b[38;5;241;43m0\u001b[39;49m\u001b[43m]\u001b[49m\u001b[43m,\u001b[49m\n\u001b[0;32m    452\u001b[0m \u001b[43m    \u001b[49m\u001b[43mxy\u001b[49m\u001b[43m[\u001b[49m\u001b[43m:\u001b[49m\u001b[43m,\u001b[49m\u001b[43m \u001b[49m\u001b[38;5;241;43m1\u001b[39;49m\u001b[43m]\u001b[49m\u001b[43m,\u001b[49m\n\u001b[0;32m    453\u001b[0m \u001b[43m    \u001b[49m\u001b[43ms\u001b[49m\u001b[38;5;241;43m=\u001b[39;49m\u001b[43mnode_size\u001b[49m\u001b[43m,\u001b[49m\n\u001b[0;32m    454\u001b[0m \u001b[43m    \u001b[49m\u001b[43mc\u001b[49m\u001b[38;5;241;43m=\u001b[39;49m\u001b[43mnode_color\u001b[49m\u001b[43m,\u001b[49m\n\u001b[0;32m    455\u001b[0m \u001b[43m    \u001b[49m\u001b[43mmarker\u001b[49m\u001b[38;5;241;43m=\u001b[39;49m\u001b[43mnode_shape\u001b[49m\u001b[43m,\u001b[49m\n\u001b[0;32m    456\u001b[0m \u001b[43m    \u001b[49m\u001b[43mcmap\u001b[49m\u001b[38;5;241;43m=\u001b[39;49m\u001b[43mcmap\u001b[49m\u001b[43m,\u001b[49m\n\u001b[0;32m    457\u001b[0m \u001b[43m    \u001b[49m\u001b[43mvmin\u001b[49m\u001b[38;5;241;43m=\u001b[39;49m\u001b[43mvmin\u001b[49m\u001b[43m,\u001b[49m\n\u001b[0;32m    458\u001b[0m \u001b[43m    \u001b[49m\u001b[43mvmax\u001b[49m\u001b[38;5;241;43m=\u001b[39;49m\u001b[43mvmax\u001b[49m\u001b[43m,\u001b[49m\n\u001b[0;32m    459\u001b[0m \u001b[43m    \u001b[49m\u001b[43malpha\u001b[49m\u001b[38;5;241;43m=\u001b[39;49m\u001b[43malpha\u001b[49m\u001b[43m,\u001b[49m\n\u001b[0;32m    460\u001b[0m \u001b[43m    \u001b[49m\u001b[43mlinewidths\u001b[49m\u001b[38;5;241;43m=\u001b[39;49m\u001b[43mlinewidths\u001b[49m\u001b[43m,\u001b[49m\n\u001b[0;32m    461\u001b[0m \u001b[43m    \u001b[49m\u001b[43medgecolors\u001b[49m\u001b[38;5;241;43m=\u001b[39;49m\u001b[43medgecolors\u001b[49m\u001b[43m,\u001b[49m\n\u001b[0;32m    462\u001b[0m \u001b[43m    \u001b[49m\u001b[43mlabel\u001b[49m\u001b[38;5;241;43m=\u001b[39;49m\u001b[43mlabel\u001b[49m\u001b[43m,\u001b[49m\n\u001b[0;32m    463\u001b[0m \u001b[43m\u001b[49m\u001b[43m)\u001b[49m\n\u001b[0;32m    464\u001b[0m \u001b[38;5;28;01mif\u001b[39;00m hide_ticks:\n\u001b[0;32m    465\u001b[0m     ax\u001b[38;5;241m.\u001b[39mtick_params(\n\u001b[0;32m    466\u001b[0m         axis\u001b[38;5;241m=\u001b[39m\u001b[38;5;124m\"\u001b[39m\u001b[38;5;124mboth\u001b[39m\u001b[38;5;124m\"\u001b[39m,\n\u001b[0;32m    467\u001b[0m         which\u001b[38;5;241m=\u001b[39m\u001b[38;5;124m\"\u001b[39m\u001b[38;5;124mboth\u001b[39m\u001b[38;5;124m\"\u001b[39m,\n\u001b[1;32m   (...)\u001b[0m\n\u001b[0;32m    471\u001b[0m         labelleft\u001b[38;5;241m=\u001b[39m\u001b[38;5;28;01mFalse\u001b[39;00m,\n\u001b[0;32m    472\u001b[0m     )\n",
      "File \u001b[1;32md:\\00_DataForge\\venv\\lib\\site-packages\\matplotlib\\__init__.py:1486\u001b[0m, in \u001b[0;36m_preprocess_data.<locals>.inner\u001b[1;34m(ax, data, *args, **kwargs)\u001b[0m\n\u001b[0;32m   1483\u001b[0m \u001b[38;5;129m@functools\u001b[39m\u001b[38;5;241m.\u001b[39mwraps(func)\n\u001b[0;32m   1484\u001b[0m \u001b[38;5;28;01mdef\u001b[39;00m \u001b[38;5;21minner\u001b[39m(ax, \u001b[38;5;241m*\u001b[39margs, data\u001b[38;5;241m=\u001b[39m\u001b[38;5;28;01mNone\u001b[39;00m, \u001b[38;5;241m*\u001b[39m\u001b[38;5;241m*\u001b[39mkwargs):\n\u001b[0;32m   1485\u001b[0m     \u001b[38;5;28;01mif\u001b[39;00m data \u001b[38;5;129;01mis\u001b[39;00m \u001b[38;5;28;01mNone\u001b[39;00m:\n\u001b[1;32m-> 1486\u001b[0m         \u001b[38;5;28;01mreturn\u001b[39;00m func(\n\u001b[0;32m   1487\u001b[0m             ax,\n\u001b[0;32m   1488\u001b[0m             \u001b[38;5;241m*\u001b[39m\u001b[38;5;28mmap\u001b[39m(sanitize_sequence, args),\n\u001b[0;32m   1489\u001b[0m             \u001b[38;5;241m*\u001b[39m\u001b[38;5;241m*\u001b[39m{k: sanitize_sequence(v) \u001b[38;5;28;01mfor\u001b[39;00m k, v \u001b[38;5;129;01min\u001b[39;00m kwargs\u001b[38;5;241m.\u001b[39mitems()})\n\u001b[0;32m   1491\u001b[0m     bound \u001b[38;5;241m=\u001b[39m new_sig\u001b[38;5;241m.\u001b[39mbind(ax, \u001b[38;5;241m*\u001b[39margs, \u001b[38;5;241m*\u001b[39m\u001b[38;5;241m*\u001b[39mkwargs)\n\u001b[0;32m   1492\u001b[0m     auto_label \u001b[38;5;241m=\u001b[39m (bound\u001b[38;5;241m.\u001b[39marguments\u001b[38;5;241m.\u001b[39mget(label_namer)\n\u001b[0;32m   1493\u001b[0m                   \u001b[38;5;129;01mor\u001b[39;00m bound\u001b[38;5;241m.\u001b[39mkwargs\u001b[38;5;241m.\u001b[39mget(label_namer))\n",
      "File \u001b[1;32md:\\00_DataForge\\venv\\lib\\site-packages\\matplotlib\\axes\\_axes.py:4805\u001b[0m, in \u001b[0;36mAxes.scatter\u001b[1;34m(self, x, y, s, c, marker, cmap, norm, vmin, vmax, alpha, linewidths, edgecolors, plotnonfinite, **kwargs)\u001b[0m\n\u001b[0;32m   4802\u001b[0m \u001b[38;5;28;01mif\u001b[39;00m edgecolors \u001b[38;5;129;01mis\u001b[39;00m \u001b[38;5;28;01mNone\u001b[39;00m:\n\u001b[0;32m   4803\u001b[0m     orig_edgecolor \u001b[38;5;241m=\u001b[39m kwargs\u001b[38;5;241m.\u001b[39mget(\u001b[38;5;124m'\u001b[39m\u001b[38;5;124medgecolor\u001b[39m\u001b[38;5;124m'\u001b[39m, \u001b[38;5;28;01mNone\u001b[39;00m)\n\u001b[0;32m   4804\u001b[0m c, colors, edgecolors \u001b[38;5;241m=\u001b[39m \\\n\u001b[1;32m-> 4805\u001b[0m     \u001b[38;5;28;43mself\u001b[39;49m\u001b[38;5;241;43m.\u001b[39;49m\u001b[43m_parse_scatter_color_args\u001b[49m\u001b[43m(\u001b[49m\n\u001b[0;32m   4806\u001b[0m \u001b[43m        \u001b[49m\u001b[43mc\u001b[49m\u001b[43m,\u001b[49m\u001b[43m \u001b[49m\u001b[43medgecolors\u001b[49m\u001b[43m,\u001b[49m\u001b[43m \u001b[49m\u001b[43mkwargs\u001b[49m\u001b[43m,\u001b[49m\u001b[43m \u001b[49m\u001b[43mx\u001b[49m\u001b[38;5;241;43m.\u001b[39;49m\u001b[43msize\u001b[49m\u001b[43m,\u001b[49m\n\u001b[0;32m   4807\u001b[0m \u001b[43m        \u001b[49m\u001b[43mget_next_color_func\u001b[49m\u001b[38;5;241;43m=\u001b[39;49m\u001b[38;5;28;43mself\u001b[39;49m\u001b[38;5;241;43m.\u001b[39;49m\u001b[43m_get_patches_for_fill\u001b[49m\u001b[38;5;241;43m.\u001b[39;49m\u001b[43mget_next_color\u001b[49m\u001b[43m)\u001b[49m\n\u001b[0;32m   4809\u001b[0m \u001b[38;5;28;01mif\u001b[39;00m plotnonfinite \u001b[38;5;129;01mand\u001b[39;00m colors \u001b[38;5;129;01mis\u001b[39;00m \u001b[38;5;28;01mNone\u001b[39;00m:\n\u001b[0;32m   4810\u001b[0m     c \u001b[38;5;241m=\u001b[39m np\u001b[38;5;241m.\u001b[39mma\u001b[38;5;241m.\u001b[39mmasked_invalid(c)\n",
      "File \u001b[1;32md:\\00_DataForge\\venv\\lib\\site-packages\\matplotlib\\axes\\_axes.py:4624\u001b[0m, in \u001b[0;36mAxes._parse_scatter_color_args\u001b[1;34m(c, edgecolors, kwargs, xsize, get_next_color_func)\u001b[0m\n\u001b[0;32m   4622\u001b[0m \u001b[38;5;28;01melse\u001b[39;00m:\n\u001b[0;32m   4623\u001b[0m     \u001b[38;5;28;01mif\u001b[39;00m \u001b[38;5;129;01mnot\u001b[39;00m valid_shape:\n\u001b[1;32m-> 4624\u001b[0m         \u001b[38;5;28;01mraise\u001b[39;00m invalid_shape_exception(c\u001b[38;5;241m.\u001b[39msize, xsize) \u001b[38;5;28;01mfrom\u001b[39;00m \u001b[38;5;21;01merr\u001b[39;00m\n\u001b[0;32m   4625\u001b[0m     \u001b[38;5;66;03m# Both the mapping *and* the RGBA conversion failed: pretty\u001b[39;00m\n\u001b[0;32m   4626\u001b[0m     \u001b[38;5;66;03m# severe failure => one may appreciate a verbose feedback.\u001b[39;00m\n\u001b[0;32m   4627\u001b[0m     \u001b[38;5;28;01mraise\u001b[39;00m \u001b[38;5;167;01mValueError\u001b[39;00m(\n\u001b[0;32m   4628\u001b[0m         \u001b[38;5;124mf\u001b[39m\u001b[38;5;124m\"\u001b[39m\u001b[38;5;124m'\u001b[39m\u001b[38;5;124mc\u001b[39m\u001b[38;5;124m'\u001b[39m\u001b[38;5;124m argument must be a color, a sequence of colors, \u001b[39m\u001b[38;5;124m\"\u001b[39m\n\u001b[0;32m   4629\u001b[0m         \u001b[38;5;124mf\u001b[39m\u001b[38;5;124m\"\u001b[39m\u001b[38;5;124mor a sequence of numbers, not \u001b[39m\u001b[38;5;132;01m{\u001b[39;00mc\u001b[38;5;132;01m!r}\u001b[39;00m\u001b[38;5;124m\"\u001b[39m) \u001b[38;5;28;01mfrom\u001b[39;00m \u001b[38;5;21;01merr\u001b[39;00m\n",
      "\u001b[1;31mValueError\u001b[0m: 'c' argument has 10 elements, which is inconsistent with 'x' and 'y' with size 11."
     ]
    },
    {
     "data": {
      "image/png": "[encoded data removed]",
      "text/plain": [
       "<Figure size 1200x1200 with 1 Axes>"
      ]
     },
     "metadata": {},
     "output_type": "display_data"
    }
   ],
   "source": [
    "G = to_networkx(graph_hom,to_undirected=True)\n",
    "plt.figure(figsize=(12,12))\n",
    "plt.axis('off')\n",
    "nx.draw_networkx(G,\n",
    "                pos=nx.spring_layout(G, seed=0),\n",
    "                with_labels=True,\n",
    "                node_size=800,\n",
    "                node_color=colors,\n",
    "                cmap=\"hsv\",\n",
    "                vmin=-2,\n",
    "                vmax=3,\n",
    "                width=0.8,\n",
    "                edge_color=\"grey\",\n",
    "                font_size=14\n",
    "                )\n",
    "plt.show()"
   ]
  },
  {
   "cell_type": "code",
   "execution_count": null,
   "metadata": {},
   "outputs": [],
   "source": []
  }
 ],
 "metadata": {
  "kernelspec": {
   "display_name": "venv",
   "language": "python",
   "name": "python3"
  },
  "language_info": {
   "codemirror_mode": {
    "name": "ipython",
    "version": 3
   },
   "file_extension": ".py",
   "mimetype": "text/x-python",
   "name": "python",
   "nbconvert_exporter": "python",
   "pygments_lexer": "ipython3",
   "version": "3.10.10"
  }
 },
 "nbformat": 4,
 "nbformat_minor": 2
}
