{
 "cells": [
  {
   "cell_type": "code",
   "execution_count": 28,
   "metadata": {},
   "outputs": [],
   "source": [
    "from sklearn.preprocessing import LabelEncoder\n",
    "import numpy as np\n",
    "import pandas as pd"
   ]
  },
  {
   "cell_type": "code",
   "execution_count": 9,
   "metadata": {},
   "outputs": [
    {
     "data": {
      "text/plain": [
       "0.3019367789281201"
      ]
     },
     "execution_count": 9,
     "metadata": {},
     "output_type": "execute_result"
    }
   ],
   "source": [
    "np.random.random()"
   ]
  },
  {
   "cell_type": "code",
   "execution_count": 14,
   "metadata": {},
   "outputs": [],
   "source": [
    "a = ['a', 'b', 'c', 'a', 'b', 'c']\n",
    "b = [np.random.random() for i in range(len(a))]\n",
    "le = LabelEncoder()\n",
    "mapped_a = le.fit_transform(a)\n",
    "\n",
    "a_embeding = {j:i for i,j in zip(a, mapped_a)}"
   ]
  },
  {
   "cell_type": "code",
   "execution_count": 16,
   "metadata": {},
   "outputs": [
    {
     "data": {
      "text/plain": [
       "{0: 0.3736946266533334,\n",
       " 2: 0.7168884956793288,\n",
       " 1: 0.5027394742543922,\n",
       " 5: 0.9768995159654194,\n",
       " 3: 0.7439714475264648,\n",
       " 4: 0.7480950102694004}"
      ]
     },
     "execution_count": 16,
     "metadata": {},
     "output_type": "execute_result"
    }
   ],
   "source": [
    "mapped_b = le.fit_transform(b)\n",
    "b_embeding = {j:i for i,j in zip(b, mapped_b)}\n",
    "b_embeding"
   ]
  },
  {
   "cell_type": "code",
   "execution_count": 30,
   "metadata": {},
   "outputs": [],
   "source": [
    "edges = {\"source\":[1,1,2,3,3,4],\n",
    "         \"target\":[2,3,3,4,5,5],\n",
    "         \"weight\":[1,2,3,4,5,6]}\n",
    "edges = pd.DataFrame(edges)\n",
    "edge_roles={\"source\":\"ID\",\"target\":\"ID\",\"weight\":\"WEIGHT\"}"
   ]
  },
  {
   "cell_type": "code",
   "execution_count": 33,
   "metadata": {},
   "outputs": [
    {
     "data": {
      "text/plain": [
       "array([[1, 1, 2, 3, 3, 4],\n",
       "       [2, 3, 3, 4, 5, 5]], dtype=int64)"
      ]
     },
     "execution_count": 33,
     "metadata": {},
     "output_type": "execute_result"
    }
   ],
   "source": [
    "# Edges\n",
    "edge_indices = edges[[col for col, role in edge_roles.items() if role == 'ID']]\n",
    "edge_index = edge_indices.values.T\n",
    "edge_index"
   ]
  },
  {
   "cell_type": "code",
   "execution_count": 38,
   "metadata": {},
   "outputs": [
    {
     "name": "stdout",
     "output_type": "stream",
     "text": [
      "ID ID\n",
      "Name Label\n",
      "Feature_1 Features\n",
      "Feature_2 Features\n",
      "Feature_3 Features\n",
      "Feature_4 Features\n",
      "Feature_5 Category\n"
     ]
    }
   ],
   "source": [
    "tese = {'ID': 'ID', 'Name': 'Label', 'Feature_1': 'Features', 'Feature_2': 'Features', 'Feature_3': 'Features', 'Feature_4': 'Features', 'Feature_5': 'Category'}\n",
    "\n",
    "\n",
    "for key, it in tese.items():\n",
    "    print(key, it)"
   ]
  },
  {
   "cell_type": "code",
   "execution_count": null,
   "metadata": {},
   "outputs": [],
   "source": []
  }
 ],
 "metadata": {
  "kernelspec": {
   "display_name": "venv",
   "language": "python",
   "name": "python3"
  },
  "language_info": {
   "codemirror_mode": {
    "name": "ipython",
    "version": 3
   },
   "file_extension": ".py",
   "mimetype": "text/x-python",
   "name": "python",
   "nbconvert_exporter": "python",
   "pygments_lexer": "ipython3",
   "version": "3.10.10"
  }
 },
 "nbformat": 4,
 "nbformat_minor": 2
}
